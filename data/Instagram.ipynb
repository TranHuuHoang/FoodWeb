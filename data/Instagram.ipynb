{
 "cells": [
  {
   "cell_type": "markdown",
   "id": "2ab416bf",
   "metadata": {},
   "source": [
    "## You need to download chromedriver and an account"
   ]
  },
  {
   "cell_type": "markdown",
   "id": "558a482b",
   "metadata": {},
   "source": [
    "## Don't run all the code at the same time, run these 2 first"
   ]
  },
  {
   "cell_type": "code",
   "execution_count": 47,
   "id": "09499226",
   "metadata": {},
   "outputs": [],
   "source": [
    "from selenium.webdriver import Chrome\n",
    "from selenium.webdriver.chrome.options import Options\n",
    "from instascrape import Profile, scrape_posts, Post, Hashtag\n",
    "import pickle"
   ]
  },
  {
   "cell_type": "code",
   "execution_count": 48,
   "id": "aca3e887",
   "metadata": {},
   "outputs": [
    {
     "name": "stdout",
     "output_type": "stream",
     "text": [
      "{'acceptInsecureCerts': False, 'browserName': 'chrome', 'browserVersion': '90.0.4430.212', 'chrome': {'chromedriverVersion': '90.0.4430.24 (4c6d850f087da467d926e8eddb76550aed655991-refs/branch-heads/4430@{#429})', 'userDataDir': 'C:\\\\Users\\\\Dell\\\\AppData\\\\Local\\\\Temp\\\\scoped_dir8292_1222908945'}, 'goog:chromeOptions': {'debuggerAddress': 'localhost:52532'}, 'networkConnectionEnabled': False, 'pageLoadStrategy': 'normal', 'platformName': 'windows', 'proxy': {}, 'setWindowRect': True, 'strictFileInteractability': False, 'timeouts': {'implicit': 0, 'pageLoad': 300000, 'script': 30000}, 'unhandledPromptBehavior': 'dismiss and notify', 'webauthn:extension:largeBlob': True, 'webauthn:virtualAuthenticators': True}\n"
     ]
    }
   ],
   "source": [
    "# put the exact location of the chromedriver\n",
    "options = Options()\n",
    "prefs = {\"profile.default_content_setting_values.notifications\" : 2}\n",
    "options.add_experimental_option(\"prefs\",prefs)\n",
    "webdriver = Chrome(\"chromedriver.exe\", options=options)\n",
    "print(webdriver.capabilities)"
   ]
  },
  {
   "cell_type": "markdown",
   "id": "016f2af7",
   "metadata": {},
   "source": [
    "## After those first 2 code, get the session ID"
   ]
  },
  {
   "cell_type": "markdown",
   "id": "ab0736ee",
   "metadata": {},
   "source": [
    "## For more info, visit\n",
    "## https://dev.to/chrisgreening/scraping-every-post-on-an-instagram-profile-with-less-than-10-lines-of-python-1n8b"
   ]
  },
  {
   "cell_type": "code",
   "execution_count": 20,
   "id": "e4260803-f69b-4c9a-9917-e4062e925272",
   "metadata": {
    "collapsed": true,
    "jupyter": {
     "outputs_hidden": true,
     "source_hidden": true
    },
    "tags": []
   },
   "outputs": [
    {
     "name": "stdout",
     "output_type": "stream",
     "text": [
      "83919\n",
      "['growwithgoogle']\n",
      "10077664\n",
      "None\n"
     ]
    }
   ],
   "source": [
    "# Instantiate the scraper objects \n",
    "profile = Profile('https://www.instagram.com/shuangys_kitchensink/')\n",
    "profile_post = Post('https://www.instagram.com/p/CG0UU3ylXnv/')\n",
    "profile_hashtag = Hashtag('https://www.instagram.com/explore/tags/google/')\n",
    "\n",
    "# Scrape their respective data \n",
    "profile.scrape()\n",
    "profile_post.scrape()\n",
    "profile_hashtag.scrape()\n",
    "\n",
    "print(profile.followers)\n",
    "print(profile_post['hashtags'])\n",
    "print(profile_hashtag.amount_of_posts)\n",
    "print(profile.scrape())"
   ]
  },
  {
   "cell_type": "code",
   "execution_count": 52,
   "id": "ccea2fa5",
   "metadata": {
    "tags": []
   },
   "outputs": [
    {
     "name": "stderr",
     "output_type": "stream",
     "text": [
      "e:\\computer science study year 4\\.sem2\\foodweb\\env\\lib\\site-packages\\instascrape\\core\\_static_scraper.py:134: MissingCookiesWarning: Request header does not contain cookies! It's recommended you pass at least a valid sessionid otherwise Instagram will likely redirect you to their login page.\n",
      "  warnings.warn(\n"
     ]
    }
   ],
   "source": [
    "# Put the session ID here inside the ''\n",
    "SESSIONID = '5651541605%3AeI886RE3K6nsW8%3A20'\n",
    "# headers = {\"user-agent\": \"Mozilla/5.0 (Linux; Android 6.0; Nexus 5 Build/MRA58N) AppleWebKit/537.36 (KHTML, like Gecko) Chrome/90.0.4430.212 Mobile Safari/537.36 Edg/87.0.664.57\",\n",
    "#            \"cookie\": f\"sessionid={SESSIONID};\"}\n",
    "headers = {\"user-agent\": \"Mozilla/5.0 (Linux; Android 6.0; Nexus 5 Build/MRA58N) AppleWebKit/537.36 (KHTML, like Gecko) Chrome/90.0.4430.212 Mobile Safari/537.36 Edg/87.0.664.57\"}\n",
    "# Put the profile name here\n",
    "profile_name = 'shuangys_kitchensink'\n",
    "profile = Profile(profile_name)\n",
    "profile.scrape(headers=headers)"
   ]
  },
  {
   "cell_type": "markdown",
   "id": "60669c14",
   "metadata": {},
   "source": [
    "## Run this (one) code below and check it every few minutes in case it gets stuck and you should scroll up a bit to make it scroll again, and repeat the process until it gets scrolled all the way down"
   ]
  },
  {
   "cell_type": "code",
   "execution_count": 53,
   "id": "e9b2ec25",
   "metadata": {},
   "outputs": [],
   "source": [
    "posts = profile.get_posts(webdriver=webdriver, login_first=True, max_failed_scroll=10000, login_pause=10)"
   ]
  },
  {
   "cell_type": "markdown",
   "id": "515eba51",
   "metadata": {},
   "source": [
    "## Don't close the chromedrive because session id will get expired without you close it\n",
    "## Run the code below to check that you collected all the posts (must be same with the total number of post)"
   ]
  },
  {
   "cell_type": "code",
   "execution_count": 33,
   "id": "d202b87d",
   "metadata": {},
   "outputs": [
    {
     "data": {
      "text/plain": [
       "564"
      ]
     },
     "execution_count": 33,
     "metadata": {},
     "output_type": "execute_result"
    }
   ],
   "source": [
    "len(posts)"
   ]
  },
  {
   "cell_type": "markdown",
   "id": "33b348d7",
   "metadata": {},
   "source": [
    "## Divide the posts in case it gets error so you won't start over again"
   ]
  },
  {
   "cell_type": "code",
   "execution_count": 38,
   "id": "50c55a76",
   "metadata": {},
   "outputs": [],
   "source": [
    "posts1 = posts[:100]\n",
    "posts2 = posts[500:1000]\n",
    "posts3 = posts[1000:1500]\n",
    "posts4 = posts[1500:2000]\n",
    "posts5 = posts[2000:2500]\n",
    "posts6 = posts[2500:3000]\n",
    "posts7 = posts[3000:3500]\n",
    "posts8 = posts[3500:4000]\n",
    "posts9 = posts[4000:4500]\n",
    "posts10 = posts[4500:5000]\n",
    "posts11 = posts[5000:5500]\n",
    "posts12 = posts[5500:6000]\n",
    "posts13 = posts[6000:6500]\n",
    "posts14 = posts[6500:7000]\n",
    "posts15 = posts[7000:7500]\n",
    "posts16 = posts[7500:7578]"
   ]
  },
  {
   "cell_type": "markdown",
   "id": "1a2d96fb",
   "metadata": {},
   "source": [
    "## Run to scrape posts, adjust with the total number of posts"
   ]
  },
  {
   "cell_type": "code",
   "execution_count": 39,
   "id": "f6c4faa5",
   "metadata": {},
   "outputs": [
    {
     "name": "stdout",
     "output_type": "stream",
     "text": [
      "0: CPTFAN1JlyC - 2021-05-25 21:45:40\n",
      "1: CPQfsyApup8 - 2021-05-24 21:41:14\n",
      "2: CPGM3CrpMgx - 2021-05-20 21:44:12\n",
      "3: CPDoGb4J8Qc - 2021-05-19 21:44:30\n",
      "4: CPBEJz0pnSJ - 2021-05-18 21:52:07\n",
      "5: CO-fZ1vJZZS - 2021-05-17 21:52:19\n",
      "6: CO2wGfypuXs - 2021-05-14 21:44:18\n",
      "7: COxmKirJtiC - 2021-05-12 21:41:16\n",
      "8: COvAS5RpOIA - 2021-05-11 21:31:52\n",
      "9: COsbmUJp6H8 - 2021-05-10 21:32:56\n",
      "10: COqrCNUp2Fy - 2021-05-10 05:09:08\n",
      "11: COiJiWUBcel - 2021-05-06 21:42:30\n",
      "12: COfjqapppY2 - 2021-05-05 21:33:16\n",
      "13: COdAAvJp_nw - 2021-05-04 21:43:04\n",
      "14: COabFtbJhRe - 2021-05-03 21:41:57\n",
      "15: COSttEjpNtZ - 2021-04-30 21:50:41\n",
      "16: COQIj4wpyOB - 2021-04-29 21:47:38\n",
      "17: CONi9ocpNO3 - 2021-04-28 21:40:38\n",
      "18: COK-jSnpDMA - 2021-04-27 21:43:59\n",
      "19: COIbKthJsOV - 2021-04-26 21:56:29\n",
      "20: COAq0oWpzSX - 2021-04-23 21:39:24\n",
      "21: CN-HULIp7tR - 2021-04-22 21:50:26\n",
      "22: CN7hFLjJnxe - 2021-04-21 21:37:51\n",
      "23: CN48HnXJgsl - 2021-04-20 21:36:39\n",
      "24: CN2XKYnpGO3 - 2021-04-19 21:34:59\n",
      "25: CNuodfapYZA - 2021-04-16 21:32:13\n",
      "26: CNsEduZpqGS - 2021-04-15 21:39:49\n",
      "27: CNpgeQiJmj4 - 2021-04-14 21:46:12\n",
      "28: CNkV32uJKby - 2021-04-12 21:37:23\n",
      "29: CNcnR2LJWxB - 2021-04-09 21:35:48\n",
      "30: CNaFeFkJL2D - 2021-04-08 22:01:39\n",
      "31: CNXd9ocpKF2 - 2021-04-07 21:37:57\n",
      "32: CNU47ZmJgov - 2021-04-06 21:35:51\n",
      "33: CNSVVtopiEf - 2021-04-05 21:46:23\n",
      "34: CNKmLl0BVTV - 2021-04-02 21:39:38\n",
      "35: CNIBtdspAHn - 2021-04-01 21:42:28\n",
      "36: CNFdT5_JMHn - 2021-03-31 21:45:55\n",
      "37: CNC44fQJxRO - 2021-03-30 21:49:07\n",
      "38: CNASiFNpy_n - 2021-03-29 21:35:32\n",
      "39: CM4lUwkpv-u - 2021-03-26 21:45:49\n",
      "40: CM2AdghJqlo - 2021-03-25 21:45:13\n",
      "41: CMzcAkSJjhP - 2021-03-24 21:48:13\n",
      "42: CMw3yoAJGQD - 2021-03-23 21:53:15\n",
      "43: CMmmrYMpBOd - 2021-03-19 22:11:41\n",
      "44: CMj_EobJAVE - 2021-03-18 21:46:45\n",
      "45: CMhbRrSJfHd - 2021-03-17 21:55:29\n",
      "46: CMe3I3zJDJa - 2021-03-16 22:01:13\n",
      "47: CMcRFbZhrYQ - 2021-03-15 21:50:13\n",
      "48: CMaqzF3BfU0 - 2021-03-15 06:56:26\n",
      "49: CMUqDsGBOn9 - 2021-03-12 22:54:49\n",
      "50: CMSFj2Rhdqd - 2021-03-11 22:57:07\n",
      "51: CMPgd1MJqk6 - 2021-03-10 22:54:30\n",
      "52: CMKVaUnBDvT - 2021-03-08 22:41:42\n",
      "53: CMH7riaBNjA - 2021-03-08 00:18:36\n",
      "54: CL9ecz_Jt2R - 2021-03-03 22:50:33\n",
      "55: CL65cDCJ5yU - 2021-03-02 22:48:40\n",
      "56: CL4TtdVp61A - 2021-03-01 22:40:30\n",
      "57: CLxKHj_p5lo - 2021-02-27 04:02:00\n",
      "58: CLuEfHvJ3Nz - 2021-02-25 23:15:04\n",
      "59: CLo3kSlpoXw - 2021-02-23 22:45:59\n",
      "60: CLmUSO3JCua - 2021-02-22 22:59:12\n",
      "61: CLekcLMJqdb - 2021-02-19 22:46:26\n",
      "62: CLcAfRZJHmj - 2021-02-18 22:53:49\n",
      "63: CLZZv0wpfhS - 2021-02-17 22:37:22\n",
      "64: CLW1ftCJyIH - 2021-02-16 22:41:33\n",
      "65: CLUTaGYp9XY - 2021-02-15 23:05:12\n",
      "66: CLR2hR4Ji3I - 2021-02-15 00:14:18\n",
      "67: CLMjVocJsXY - 2021-02-12 22:50:29\n",
      "68: CLJ_eI7JFsV - 2021-02-11 22:58:52\n",
      "69: CLHZUF_pSNX - 2021-02-10 22:46:41\n",
      "70: CLEzwtMJ3MN - 2021-02-09 22:40:04\n",
      "71: CLCOlF2JcmF - 2021-02-08 22:36:41\n",
      "72: CK_1cJzpMzF - 2021-02-08 00:18:55\n",
      "73: CK6hxUtJPnJ - 2021-02-05 22:50:27\n",
      "74: CK38tLOJ5Vk - 2021-02-04 22:48:06\n",
      "75: CK1WyM9JXJ6 - 2021-02-03 22:38:35\n",
      "76: CKyyYVGpPCB - 2021-02-02 22:41:40\n",
      "77: CKwNv5MJ-HU - 2021-02-01 22:43:05\n",
      "78: CKubr6IJ9JA - 2021-02-01 06:06:24\n",
      "79: CKofgIrpUZT - 2021-01-29 22:44:35\n",
      "80: CKl7ibTpYbu - 2021-01-28 22:51:34\n",
      "81: CKjWHYWpK06 - 2021-01-27 22:46:05\n",
      "82: CKgx7sapcaR - 2021-01-26 22:51:26\n",
      "83: CKbupjYJW5p - 2021-01-24 23:46:32\n",
      "84: CKT5YddJSEC - 2021-01-21 22:46:24\n",
      "85: CKRUhfpp4Rb - 2021-01-20 22:45:50\n",
      "86: CKOxZOPp2kj - 2021-01-19 23:00:23\n",
      "87: CKMMRjFpRgp - 2021-01-18 22:57:45\n",
      "88: CKKhWp4pvl3 - 2021-01-18 07:23:16\n",
      "89: CKEdNzWpZRb - 2021-01-15 22:51:40\n",
      "90: CKB4ROkp4og - 2021-01-14 22:50:55\n",
      "91: CJ_TFSTJzzg - 2021-01-13 22:46:55\n",
      "92: CJ8sweQJ4K_ - 2021-01-12 22:33:55\n",
      "93: CJ6KwA7pEkr - 2021-01-11 22:57:54\n",
      "94: CJ4ea7SpRO6 - 2021-01-11 07:11:18\n",
      "95: CJycKlbpJfs - 2021-01-08 22:56:09\n",
      "96: CJv16_ppPom - 2021-01-07 22:44:53\n",
      "97: CJtSC0OJ6kN - 2021-01-06 22:51:31\n",
      "98: CJqsAknp0kt - 2021-01-05 22:40:41\n",
      "99: CJoIQIsJP75 - 2021-01-04 22:49:45\n"
     ]
    }
   ],
   "source": [
    "scraped_posts_1, unscraped_posts_1 = scrape_posts(posts1, headers=headers, pause=10, silent=False)"
   ]
  },
  {
   "cell_type": "code",
   "execution_count": null,
   "id": "8de702ff",
   "metadata": {},
   "outputs": [],
   "source": [
    "scraped_posts_2, unscraped_posts_2 = scrape_posts(posts2, headers=headers, pause=10, silent=False)"
   ]
  },
  {
   "cell_type": "code",
   "execution_count": null,
   "id": "5caf13fa",
   "metadata": {},
   "outputs": [],
   "source": [
    "scraped_posts_3, unscraped_posts_3 = scrape_posts(posts3, headers=headers, pause=10, silent=False)"
   ]
  },
  {
   "cell_type": "code",
   "execution_count": null,
   "id": "9e736a3d",
   "metadata": {},
   "outputs": [],
   "source": [
    "scraped_posts_4, unscraped_posts_4 = scrape_posts(posts4, headers=headers, pause=10, silent=False)"
   ]
  },
  {
   "cell_type": "code",
   "execution_count": null,
   "id": "6d82b7eb",
   "metadata": {},
   "outputs": [],
   "source": [
    "scraped_posts_5, unscraped_posts_5 = scrape_posts(posts5, headers=headers, pause=10, silent=False)"
   ]
  },
  {
   "cell_type": "code",
   "execution_count": null,
   "id": "1e51ddbe",
   "metadata": {},
   "outputs": [],
   "source": [
    "scraped_posts_6, unscraped_posts_6 = scrape_posts(posts6, headers=headers, pause=10, silent=False)"
   ]
  },
  {
   "cell_type": "code",
   "execution_count": null,
   "id": "0675352d",
   "metadata": {},
   "outputs": [],
   "source": [
    "scraped_posts_7, unscraped_posts_7 = scrape_posts(posts7, headers=headers, pause=10, silent=False)"
   ]
  },
  {
   "cell_type": "code",
   "execution_count": null,
   "id": "25f474e5",
   "metadata": {},
   "outputs": [],
   "source": [
    "scraped_posts_8, unscraped_posts_8 = scrape_posts(posts8, headers=headers, pause=10, silent=False)"
   ]
  },
  {
   "cell_type": "code",
   "execution_count": null,
   "id": "a112381b",
   "metadata": {},
   "outputs": [],
   "source": [
    "scraped_posts_9, unscraped_posts_9 = scrape_posts(posts9, headers=headers, pause=10, silent=False)"
   ]
  },
  {
   "cell_type": "markdown",
   "id": "eea0d4d5",
   "metadata": {},
   "source": [
    "## Combine all of the successful scraped posts, then run 4 codes below"
   ]
  },
  {
   "cell_type": "code",
   "execution_count": 40,
   "id": "d0057b92",
   "metadata": {},
   "outputs": [],
   "source": [
    "scraped_posts = scraped_posts_1"
   ]
  },
  {
   "cell_type": "code",
   "execution_count": 41,
   "id": "f234518b",
   "metadata": {},
   "outputs": [
    {
     "data": {
      "text/plain": [
       "100"
      ]
     },
     "execution_count": 41,
     "metadata": {},
     "output_type": "execute_result"
    }
   ],
   "source": [
    "# Check the number of scraped posts\n",
    "len(scraped_posts)"
   ]
  },
  {
   "cell_type": "code",
   "execution_count": 42,
   "id": "eaa62efd",
   "metadata": {},
   "outputs": [],
   "source": [
    "import pandas as pd\n",
    "import datetime\n",
    "import math\n",
    "scraped_text = []\n",
    "number_of_likes = []\n",
    "number_of_comments = []\n",
    "scraped_date = []\n",
    "scraped_location = []\n",
    "video_views = []\n",
    "count=0\n",
    "for post in scraped_posts:\n",
    "    if int(post.upload_date.date().strftime(\"%Y\")) >= 2019:\n",
    "        scraped_date.append(post.upload_date.date().strftime(\"%Y-%m-%d\"))\n",
    "    else:\n",
    "        continue\n",
    "    json_dict_comments = post.json_dict['graphql']['shortcode_media']['edge_media_to_parent_comment']['edges']\n",
    "    text = \"\"\n",
    "    try:\n",
    "        text += post.caption + \",\"\n",
    "    except:\n",
    "        text += \"\"\n",
    "    for node in json_dict_comments:\n",
    "        text += node['node']['text'] + \",\"\n",
    "    scraped_text.append(text)\n",
    "    if post.likes == None:\n",
    "        number_of_likes.append(0)\n",
    "    else:\n",
    "        number_of_likes.append(post.likes)\n",
    "    if post.comments == None:\n",
    "        number_of_comments.append(0)\n",
    "    else:\n",
    "        number_of_comments.append(post.comments)\n",
    "    scraped_location.append(post.location)\n",
    "    if math.isnan(post.video_view_count):\n",
    "        video_views.append(0)\n",
    "    else:\n",
    "        video_views.append(post.video_view_count)"
   ]
  },
  {
   "cell_type": "code",
   "execution_count": 43,
   "id": "6719d8b1",
   "metadata": {},
   "outputs": [],
   "source": [
    "df1 = pd.DataFrame(scraped_text, columns=['text'])\n",
    "df2 = pd.DataFrame(video_views, columns=['NumberViews'])\n",
    "df4 = pd.DataFrame(number_of_likes, columns=['NumberLikes'])\n",
    "df5 = pd.DataFrame(number_of_comments, columns=['NumberComments'])\n",
    "df6 = pd.DataFrame(scraped_date, columns=['date'])\n",
    "df = pd.concat([df6, df1, df4, df5, df2], axis=1, sort=False)"
   ]
  },
  {
   "cell_type": "markdown",
   "id": "06be4c10",
   "metadata": {},
   "source": [
    "## Name the JSON file"
   ]
  },
  {
   "cell_type": "code",
   "execution_count": 44,
   "id": "9daf8f61",
   "metadata": {},
   "outputs": [],
   "source": [
    "name_of_file = 'insta'\n",
    "df.to_json(f'{name_of_file}.json', orient='records')"
   ]
  },
  {
   "cell_type": "markdown",
   "id": "70bc9bd8",
   "metadata": {},
   "source": [
    "##"
   ]
  },
  {
   "cell_type": "markdown",
   "id": "66a95939",
   "metadata": {},
   "source": [
    "## In case you need to shutdown your pc/laptop and save the progress, you need to save the posts object (unscraped) in pickle\n",
    "## because it's a list of objects, same with the scraped posts with the code below"
   ]
  },
  {
   "cell_type": "code",
   "execution_count": null,
   "id": "87c2f964",
   "metadata": {
    "tags": []
   },
   "outputs": [],
   "source": [
    "import pickle\n",
    "file_name = \"ENTER_FILE_NAME\"\n",
    "file_object = open(file_name, 'wb')\n",
    "pickle.dump(scraped_posts_34, file_object)\n",
    "file_object.close()"
   ]
  },
  {
   "cell_type": "markdown",
   "id": "f7ec851e",
   "metadata": {},
   "source": [
    "## This is to open it back (list of objects)"
   ]
  },
  {
   "cell_type": "code",
   "execution_count": null,
   "id": "d465f302",
   "metadata": {},
   "outputs": [],
   "source": [
    "import pickle\n",
    "open_file = open(\"fundamentally_flawed\\\\fundamentally_flawed_object\", \"rb\")\n",
    "posts = pickle.load(open_file)\n",
    "open_file.close()"
   ]
  }
 ],
 "metadata": {
  "kernelspec": {
   "display_name": "Python 3",
   "language": "python",
   "name": "python3"
  },
  "language_info": {
   "codemirror_mode": {
    "name": "ipython",
    "version": 3
   },
   "file_extension": ".py",
   "mimetype": "text/x-python",
   "name": "python",
   "nbconvert_exporter": "python",
   "pygments_lexer": "ipython3",
   "version": "3.9.5"
  }
 },
 "nbformat": 4,
 "nbformat_minor": 5
}
