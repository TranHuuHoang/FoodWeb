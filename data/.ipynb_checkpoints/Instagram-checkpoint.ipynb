{
 "cells": [
  {
   "cell_type": "markdown",
   "id": "2ab416bf",
   "metadata": {},
   "source": [
    "## You need to download chromedriver and an account"
   ]
  },
  {
   "cell_type": "markdown",
   "id": "558a482b",
   "metadata": {},
   "source": [
    "## Don't run all the code at the same time, run these 2 first"
   ]
  },
  {
   "cell_type": "code",
   "execution_count": 28,
   "id": "09499226",
   "metadata": {},
   "outputs": [],
   "source": [
    "from selenium.webdriver import Chrome\n",
    "from selenium.webdriver.chrome.options import Options\n",
    "from instascrape import Profile, scrape_posts, Post, Hashtag\n",
    "import pickle"
   ]
  },
  {
   "cell_type": "code",
   "execution_count": 29,
   "id": "aca3e887",
   "metadata": {},
   "outputs": [
    {
     "name": "stdout",
     "output_type": "stream",
     "text": [
      "{'acceptInsecureCerts': False, 'browserName': 'chrome', 'browserVersion': '90.0.4430.212', 'chrome': {'chromedriverVersion': '90.0.4430.24 (4c6d850f087da467d926e8eddb76550aed655991-refs/branch-heads/4430@{#429})', 'userDataDir': 'C:\\\\Users\\\\Dell\\\\AppData\\\\Local\\\\Temp\\\\scoped_dir4676_273081659'}, 'goog:chromeOptions': {'debuggerAddress': 'localhost:51513'}, 'networkConnectionEnabled': False, 'pageLoadStrategy': 'normal', 'platformName': 'windows', 'proxy': {}, 'setWindowRect': True, 'strictFileInteractability': False, 'timeouts': {'implicit': 0, 'pageLoad': 300000, 'script': 30000}, 'unhandledPromptBehavior': 'dismiss and notify', 'webauthn:extension:largeBlob': True, 'webauthn:virtualAuthenticators': True}\n"
     ]
    }
   ],
   "source": [
    "# put the exact location of the chromedriver\n",
    "options = Options()\n",
    "prefs = {\"profile.default_content_setting_values.notifications\" : 2}\n",
    "options.add_experimental_option(\"prefs\",prefs)\n",
    "webdriver = Chrome(\"chromedriver.exe\", options=options)\n",
    "print(webdriver.capabilities)"
   ]
  },
  {
   "cell_type": "markdown",
   "id": "016f2af7",
   "metadata": {},
   "source": [
    "## After those first 2 code, get the session ID"
   ]
  },
  {
   "cell_type": "markdown",
   "id": "ab0736ee",
   "metadata": {},
   "source": [
    "## For more info, visit\n",
    "## https://dev.to/chrisgreening/scraping-every-post-on-an-instagram-profile-with-less-than-10-lines-of-python-1n8b"
   ]
  },
  {
   "cell_type": "code",
   "execution_count": 20,
   "id": "e4260803-f69b-4c9a-9917-e4062e925272",
   "metadata": {
    "collapsed": true,
    "jupyter": {
     "outputs_hidden": true,
     "source_hidden": true
    },
    "tags": []
   },
   "outputs": [
    {
     "name": "stdout",
     "output_type": "stream",
     "text": [
      "83919\n",
      "['growwithgoogle']\n",
      "10077664\n",
      "None\n"
     ]
    }
   ],
   "source": [
    "# Instantiate the scraper objects \n",
    "profile = Profile('https://www.instagram.com/shuangys_kitchensink/')\n",
    "profile_post = Post('https://www.instagram.com/p/CG0UU3ylXnv/')\n",
    "profile_hashtag = Hashtag('https://www.instagram.com/explore/tags/google/')\n",
    "\n",
    "# Scrape their respective data \n",
    "profile.scrape()\n",
    "profile_post.scrape()\n",
    "profile_hashtag.scrape()\n",
    "\n",
    "print(profile.followers)\n",
    "print(profile_post['hashtags'])\n",
    "print(profile_hashtag.amount_of_posts)\n",
    "print(profile.scrape())"
   ]
  },
  {
   "cell_type": "code",
   "execution_count": 31,
   "id": "ccea2fa5",
   "metadata": {},
   "outputs": [],
   "source": [
    "# Put the session ID here inside the ''\n",
    "SESSIONID = '5651541605%3AeI886RE3K6nsW8%3A20'\n",
    "headers = {\"user-agent\": \"Mozilla/5.0 (Linux; Android 6.0; Nexus 5 Build/MRA58N) AppleWebKit/537.36 (KHTML, like Gecko) Chrome/90.0.4430.212 Mobile Safari/537.36 Edg/87.0.664.57\",\n",
    "           \"cookie\": f\"sessionid={SESSIONID};\"}\n",
    "# Put the profile name here\n",
    "profile_name = 'shuangys_kitchensink'\n",
    "profile = Profile(profile_name)\n",
    "profile.scrape(headers=headers)"
   ]
  },
  {
   "cell_type": "markdown",
   "id": "60669c14",
   "metadata": {},
   "source": [
    "## Run this (one) code below and check it every few minutes in case it gets stuck and you should scroll up a bit to make it scroll again, and repeat the process until it gets scrolled all the way down"
   ]
  },
  {
   "cell_type": "code",
   "execution_count": null,
   "id": "e9b2ec25",
   "metadata": {},
   "outputs": [],
   "source": [
    "posts = profile.get_posts(webdriver=webdriver, login_first=True, max_failed_scroll=10000, login_pause=10)"
   ]
  },
  {
   "cell_type": "markdown",
   "id": "515eba51",
   "metadata": {},
   "source": [
    "## Don't close the chromedrive because session id will get expired without you close it\n",
    "## Run the code below to check that you collected all the posts (must be same with the total number of post)"
   ]
  },
  {
   "cell_type": "code",
   "execution_count": 26,
   "id": "d202b87d",
   "metadata": {},
   "outputs": [
    {
     "ename": "NameError",
     "evalue": "name 'posts' is not defined",
     "output_type": "error",
     "traceback": [
      "\u001b[1;31m---------------------------------------------------------------------------\u001b[0m",
      "\u001b[1;31mNameError\u001b[0m                                 Traceback (most recent call last)",
      "\u001b[1;32m<ipython-input-26-ab0e9fd8c677>\u001b[0m in \u001b[0;36m<module>\u001b[1;34m\u001b[0m\n\u001b[1;32m----> 1\u001b[1;33m \u001b[0mlen\u001b[0m\u001b[1;33m(\u001b[0m\u001b[0mposts\u001b[0m\u001b[1;33m)\u001b[0m\u001b[1;33m\u001b[0m\u001b[1;33m\u001b[0m\u001b[0m\n\u001b[0m",
      "\u001b[1;31mNameError\u001b[0m: name 'posts' is not defined"
     ]
    }
   ],
   "source": [
    "len(posts)"
   ]
  },
  {
   "cell_type": "markdown",
   "id": "33b348d7",
   "metadata": {},
   "source": [
    "## Divide the posts in case it gets error so you won't start over again"
   ]
  },
  {
   "cell_type": "code",
   "execution_count": null,
   "id": "50c55a76",
   "metadata": {},
   "outputs": [],
   "source": [
    "posts1 = posts[:500]\n",
    "posts2 = posts[500:1000]\n",
    "posts3 = posts[1000:1500]\n",
    "posts4 = posts[1500:2000]\n",
    "posts5 = posts[2000:2500]\n",
    "posts6 = posts[2500:3000]\n",
    "posts7 = posts[3000:3500]\n",
    "posts8 = posts[3500:4000]\n",
    "posts9 = posts[4000:4500]\n",
    "posts10 = posts[4500:5000]\n",
    "posts11 = posts[5000:5500]\n",
    "posts12 = posts[5500:6000]\n",
    "posts13 = posts[6000:6500]\n",
    "posts14 = posts[6500:7000]\n",
    "posts15 = posts[7000:7500]\n",
    "posts16 = posts[7500:7578]"
   ]
  },
  {
   "cell_type": "markdown",
   "id": "1a2d96fb",
   "metadata": {},
   "source": [
    "## Run to scrape posts, adjust with the total number of posts"
   ]
  },
  {
   "cell_type": "code",
   "execution_count": null,
   "id": "f6c4faa5",
   "metadata": {},
   "outputs": [],
   "source": [
    "scraped_posts_1, unscraped_posts_1 = scrape_posts(posts1, headers=headers, pause=10, silent=False)"
   ]
  },
  {
   "cell_type": "code",
   "execution_count": null,
   "id": "8de702ff",
   "metadata": {},
   "outputs": [],
   "source": [
    "scraped_posts_2, unscraped_posts_2 = scrape_posts(posts2, headers=headers, pause=10, silent=False)"
   ]
  },
  {
   "cell_type": "code",
   "execution_count": null,
   "id": "5caf13fa",
   "metadata": {},
   "outputs": [],
   "source": [
    "scraped_posts_3, unscraped_posts_3 = scrape_posts(posts3, headers=headers, pause=10, silent=False)"
   ]
  },
  {
   "cell_type": "code",
   "execution_count": null,
   "id": "9e736a3d",
   "metadata": {},
   "outputs": [],
   "source": [
    "scraped_posts_4, unscraped_posts_4 = scrape_posts(posts4, headers=headers, pause=10, silent=False)"
   ]
  },
  {
   "cell_type": "code",
   "execution_count": null,
   "id": "6d82b7eb",
   "metadata": {},
   "outputs": [],
   "source": [
    "scraped_posts_5, unscraped_posts_5 = scrape_posts(posts5, headers=headers, pause=10, silent=False)"
   ]
  },
  {
   "cell_type": "code",
   "execution_count": null,
   "id": "1e51ddbe",
   "metadata": {},
   "outputs": [],
   "source": [
    "scraped_posts_6, unscraped_posts_6 = scrape_posts(posts6, headers=headers, pause=10, silent=False)"
   ]
  },
  {
   "cell_type": "code",
   "execution_count": null,
   "id": "0675352d",
   "metadata": {},
   "outputs": [],
   "source": [
    "scraped_posts_7, unscraped_posts_7 = scrape_posts(posts7, headers=headers, pause=10, silent=False)"
   ]
  },
  {
   "cell_type": "code",
   "execution_count": null,
   "id": "25f474e5",
   "metadata": {},
   "outputs": [],
   "source": [
    "scraped_posts_8, unscraped_posts_8 = scrape_posts(posts8, headers=headers, pause=10, silent=False)"
   ]
  },
  {
   "cell_type": "code",
   "execution_count": null,
   "id": "a112381b",
   "metadata": {},
   "outputs": [],
   "source": [
    "scraped_posts_9, unscraped_posts_9 = scrape_posts(posts9, headers=headers, pause=10, silent=False)"
   ]
  },
  {
   "cell_type": "markdown",
   "id": "eea0d4d5",
   "metadata": {},
   "source": [
    "## Combine all of the successful scraped posts, then run 4 codes below"
   ]
  },
  {
   "cell_type": "code",
   "execution_count": null,
   "id": "d0057b92",
   "metadata": {},
   "outputs": [],
   "source": [
    "# scraped_posts = scraped_posts_1 + scraped_posts_2 + ..."
   ]
  },
  {
   "cell_type": "code",
   "execution_count": null,
   "id": "f234518b",
   "metadata": {},
   "outputs": [],
   "source": [
    "# Check the number of scraped posts\n",
    "len(scraped_posts)"
   ]
  },
  {
   "cell_type": "code",
   "execution_count": null,
   "id": "eaa62efd",
   "metadata": {},
   "outputs": [],
   "source": [
    "import pandas as pd\n",
    "import datetime\n",
    "import math\n",
    "scraped_text = []\n",
    "number_of_likes = []\n",
    "number_of_comments = []\n",
    "scraped_date = []\n",
    "scraped_location = []\n",
    "video_views = []\n",
    "count=0\n",
    "for post in scraped_posts:\n",
    "    if int(post.upload_date.date().strftime(\"%Y\")) >= 2019:\n",
    "        scraped_date.append(post.upload_date.date().strftime(\"%Y-%m-%d\"))\n",
    "    else:\n",
    "        continue\n",
    "    json_dict_comments = post.json_dict['graphql']['shortcode_media']['edge_media_to_parent_comment']['edges']\n",
    "    text = \"\"\n",
    "    try:\n",
    "        text += post.caption + \",\"\n",
    "    except:\n",
    "        text += \"\"\n",
    "    for node in json_dict_comments:\n",
    "        text += node['node']['text'] + \",\"\n",
    "    scraped_text.append(text)\n",
    "    if post.likes == None:\n",
    "        number_of_likes.append(0)\n",
    "    else:\n",
    "        number_of_likes.append(post.likes)\n",
    "    if post.comments == None:\n",
    "        number_of_comments.append(0)\n",
    "    else:\n",
    "        number_of_comments.append(post.comments)\n",
    "    scraped_location.append(post.location)\n",
    "    if math.isnan(post.video_view_count):\n",
    "        video_views.append(0)\n",
    "    else:\n",
    "        video_views.append(post.video_view_count)"
   ]
  },
  {
   "cell_type": "code",
   "execution_count": null,
   "id": "6719d8b1",
   "metadata": {},
   "outputs": [],
   "source": [
    "df1 = pd.DataFrame(scraped_text, columns=['text'])\n",
    "df2 = pd.DataFrame(video_views, columns=['NumberViews'])\n",
    "df4 = pd.DataFrame(number_of_likes, columns=['NumberLikes'])\n",
    "df5 = pd.DataFrame(number_of_comments, columns=['NumberComments'])\n",
    "df6 = pd.DataFrame(scraped_date, columns=['date'])\n",
    "df = pd.concat([df6, df1, df4, df5, df2], axis=1, sort=False)"
   ]
  },
  {
   "cell_type": "markdown",
   "id": "06be4c10",
   "metadata": {},
   "source": [
    "## Name the JSON file"
   ]
  },
  {
   "cell_type": "code",
   "execution_count": null,
   "id": "9daf8f61",
   "metadata": {},
   "outputs": [],
   "source": [
    "name_of_file = 'insta'\n",
    "df.to_json(f'{name_of_file}.json', orient='records')"
   ]
  },
  {
   "cell_type": "markdown",
   "id": "70bc9bd8",
   "metadata": {},
   "source": [
    "##"
   ]
  },
  {
   "cell_type": "markdown",
   "id": "66a95939",
   "metadata": {},
   "source": [
    "## In case you need to shutdown your pc/laptop and save the progress, you need to save the posts object (unscraped) in pickle\n",
    "## because it's a list of objects, same with the scraped posts with the code below"
   ]
  },
  {
   "cell_type": "code",
   "execution_count": null,
   "id": "87c2f964",
   "metadata": {},
   "outputs": [],
   "source": [
    "import pickle\n",
    "file_name = \"ENTER_FILE_NAME\"\n",
    "file_object = open(file_name, 'wb')\n",
    "pickle.dump(scraped_posts_34, file_object)\n",
    "file_object.close()"
   ]
  },
  {
   "cell_type": "markdown",
   "id": "f7ec851e",
   "metadata": {},
   "source": [
    "## This is to open it back (list of objects)"
   ]
  },
  {
   "cell_type": "code",
   "execution_count": null,
   "id": "d465f302",
   "metadata": {},
   "outputs": [],
   "source": [
    "import pickle\n",
    "open_file = open(\"fundamentally_flawed\\\\fundamentally_flawed_object\", \"rb\")\n",
    "posts = pickle.load(open_file)\n",
    "open_file.close()"
   ]
  }
 ],
 "metadata": {
  "kernelspec": {
   "display_name": "Python 3",
   "language": "python",
   "name": "python3"
  },
  "language_info": {
   "codemirror_mode": {
    "name": "ipython",
    "version": 3
   },
   "file_extension": ".py",
   "mimetype": "text/x-python",
   "name": "python",
   "nbconvert_exporter": "python",
   "pygments_lexer": "ipython3",
   "version": "3.9.5"
  }
 },
 "nbformat": 4,
 "nbformat_minor": 5
}
